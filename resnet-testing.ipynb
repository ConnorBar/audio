{
 "cells": [
  {
   "cell_type": "code",
   "execution_count": 1,
   "metadata": {},
   "outputs": [],
   "source": [
    "import numpy as np\n",
    "import torch\n",
    "import torch.nn as nn\n",
    "import torch.optim as optim\n",
    "from torch.utils.data import Dataset, DataLoader, Subset\n",
    "from sklearn.model_selection import train_test_split\n",
    "from sklearn.metrics import classification_report, confusion_matrix\n",
    "import seaborn as sns\n",
    "import matplotlib.pyplot as plt\n",
    "from tqdm import tqdm"
   ]
  },
  {
   "cell_type": "code",
   "execution_count": 2,
   "metadata": {},
   "outputs": [],
   "source": [
    "from data.constants import *\n",
    "from data.utils import AugmentedTonesDataset, GetDevice\n",
    "from models.BasicCNN import ChineseTonesDataset\n",
    "from models.ResNet import ResNet18"
   ]
  },
  {
   "cell_type": "code",
   "execution_count": 3,
   "metadata": {},
   "outputs": [],
   "source": [
    "X = np.load(os.path.join(DATA_DIR, 'features.npy'))\n",
    "y = np.load(os.path.join(DATA_DIR, 'labels.npy')) # will need to change to tone_labels when feature_extraction is rerun\n",
    "\n",
    "X = torch.FloatTensor(X)\n",
    "y = torch.LongTensor(y)\n",
    "\n",
    "y = y - 1 # need to do this to make sure the values are within the range for CrossEntropy"
   ]
  },
  {
   "cell_type": "code",
   "execution_count": 4,
   "metadata": {},
   "outputs": [
    {
     "name": "stdout",
     "output_type": "stream",
     "text": [
      "X.shape - pre: \n",
      "\ttorch.Size([14931, 13, 237])\n",
      "X.shape - post: \n",
      "\ttorch.Size([14931, 1, 13, 237])\n",
      "number of classes: 4\n"
     ]
    }
   ],
   "source": [
    "print(f\"X.shape - pre: \\n\\t{X.shape}\")\n",
    "X = X.unsqueeze(1)\n",
    "print(f\"X.shape - post: \\n\\t{X.shape}\")\n",
    "num_classes = len(torch.unique(y))\n",
    "print(f\"number of classes: {num_classes}\")"
   ]
  },
  {
   "cell_type": "code",
   "execution_count": 11,
   "metadata": {},
   "outputs": [
    {
     "data": {
      "text/plain": [
       "(tensor([0, 1, 2, 3]), tensor([3736, 1244, 4986, 4965]))"
      ]
     },
     "execution_count": 11,
     "metadata": {},
     "output_type": "execute_result"
    }
   ],
   "source": [
    "torch.unique(y, return_counts=True)"
   ]
  },
  {
   "cell_type": "code",
   "execution_count": 4,
   "metadata": {},
   "outputs": [],
   "source": [
    "X_train, X_test, y_train, y_test = train_test_split(X, y, train_size=0.7, shuffle=True)\n",
    "\n",
    "train_dataset = ChineseTonesDataset(X_train, y_train)\n",
    "test_dataset = ChineseTonesDataset(X_test, y_test)\n",
    "\n",
    "train_dataloader = DataLoader(train_dataset, batch_size=32, shuffle=True)\n",
    "test_dataloader = DataLoader(test_dataset, batch_size=32, shuffle=True)"
   ]
  },
  {
   "cell_type": "code",
   "execution_count": 6,
   "metadata": {},
   "outputs": [],
   "source": [
    "model = ResNet18(num_classes=num_classes)\n",
    "criterion = nn.CrossEntropyLoss()\n",
    "optimizer = optim.SGD(model.parameters(), lr=0.001, momentum=0.9)"
   ]
  },
  {
   "cell_type": "code",
   "execution_count": 7,
   "metadata": {},
   "outputs": [],
   "source": [
    "device = GetDevice()\n",
    "model = model.to(device)"
   ]
  },
  {
   "cell_type": "code",
   "execution_count": 10,
   "metadata": {},
   "outputs": [
    {
     "name": "stdout",
     "output_type": "stream",
     "text": [
      "mps\n"
     ]
    }
   ],
   "source": [
    "print(device)"
   ]
  },
  {
   "cell_type": "markdown",
   "metadata": {},
   "source": [
    "### Training Loop"
   ]
  },
  {
   "cell_type": "code",
   "execution_count": 11,
   "metadata": {},
   "outputs": [
    {
     "name": "stderr",
     "output_type": "stream",
     "text": [
      "327it [00:35,  9.20it/s]\n"
     ]
    },
    {
     "name": "stdout",
     "output_type": "stream",
     "text": [
      "Epoch 0 loss: 0.7786912609130965\n"
     ]
    },
    {
     "name": "stderr",
     "output_type": "stream",
     "text": [
      "327it [00:29, 10.99it/s]\n"
     ]
    },
    {
     "name": "stdout",
     "output_type": "stream",
     "text": [
      "Epoch 1 loss: 0.4867260595982957\n"
     ]
    },
    {
     "name": "stderr",
     "output_type": "stream",
     "text": [
      "327it [00:30, 10.58it/s]\n"
     ]
    },
    {
     "name": "stdout",
     "output_type": "stream",
     "text": [
      "Epoch 2 loss: 0.3922390146722123\n"
     ]
    },
    {
     "name": "stderr",
     "output_type": "stream",
     "text": [
      "327it [00:33,  9.80it/s]\n"
     ]
    },
    {
     "name": "stdout",
     "output_type": "stream",
     "text": [
      "Epoch 3 loss: 0.3319875907141499\n"
     ]
    },
    {
     "name": "stderr",
     "output_type": "stream",
     "text": [
      "327it [00:32, 10.06it/s]\n"
     ]
    },
    {
     "name": "stdout",
     "output_type": "stream",
     "text": [
      "Epoch 4 loss: 0.2642897769170799\n"
     ]
    },
    {
     "name": "stderr",
     "output_type": "stream",
     "text": [
      "327it [00:31, 10.47it/s]\n"
     ]
    },
    {
     "name": "stdout",
     "output_type": "stream",
     "text": [
      "Epoch 5 loss: 0.21420512542082992\n"
     ]
    },
    {
     "name": "stderr",
     "output_type": "stream",
     "text": [
      "327it [00:30, 10.72it/s]\n"
     ]
    },
    {
     "name": "stdout",
     "output_type": "stream",
     "text": [
      "Epoch 6 loss: 0.15187125709990112\n"
     ]
    },
    {
     "name": "stderr",
     "output_type": "stream",
     "text": [
      "327it [00:30, 10.74it/s]\n"
     ]
    },
    {
     "name": "stdout",
     "output_type": "stream",
     "text": [
      "Epoch 7 loss: 0.14387938798909342\n"
     ]
    },
    {
     "name": "stderr",
     "output_type": "stream",
     "text": [
      "327it [00:30, 10.72it/s]\n"
     ]
    },
    {
     "name": "stdout",
     "output_type": "stream",
     "text": [
      "Epoch 8 loss: 0.09010876625753506\n"
     ]
    },
    {
     "name": "stderr",
     "output_type": "stream",
     "text": [
      "327it [00:30, 10.67it/s]"
     ]
    },
    {
     "name": "stdout",
     "output_type": "stream",
     "text": [
      "Epoch 9 loss: 0.06422631882148189\n"
     ]
    },
    {
     "name": "stderr",
     "output_type": "stream",
     "text": [
      "\n"
     ]
    }
   ],
   "source": [
    "for epoch in range(10):\n",
    "  running_loss = 0.0\n",
    "  for i, data in tqdm(enumerate(train_dataloader)):\n",
    "    inputs, labels = data\n",
    "    inputs = inputs.to(device)\n",
    "    labels = labels.to(device)\n",
    "    \n",
    "    optimizer.zero_grad()\n",
    "    outputs = model(inputs)\n",
    "    loss = criterion(outputs, labels)\n",
    "    loss.backward()\n",
    "    optimizer.step()\n",
    "    running_loss += loss.item()\n",
    "  print(f'Epoch {epoch} loss: {running_loss / len(train_dataloader)}')\n",
    "    "
   ]
  },
  {
   "cell_type": "markdown",
   "metadata": {},
   "source": [
    "- 327it [00:35,  9.20it/s]\n",
    "- Epoch 0 loss: 0.7786912609130965\n",
    "- 327it [00:29, 10.99it/s]\n",
    "- Epoch 1 loss: 0.4867260595982957\n",
    "- 327it [00:30, 10.58it/s]\n",
    "- Epoch 2 loss: 0.3922390146722123\n",
    "- 327it [00:33,  9.80it/s]\n",
    "- Epoch 3 loss: 0.3319875907141499\n",
    "- 327it [00:32, 10.06it/s]\n",
    "- Epoch 4 loss: 0.2642897769170799\n",
    "- 327it [00:31, 10.47it/s]\n",
    "- Epoch 5 loss: 0.21420512542082992\n",
    "- 327it [00:30, 10.72it/s]\n",
    "- Epoch 6 loss: 0.15187125709990112\n",
    "- 327it [00:30, 10.74it/s]\n",
    "- Epoch 7 loss: 0.14387938798909342\n",
    "- 327it [00:30, 10.72it/s]\n",
    "- Epoch 8 loss: 0.09010876625753506\n",
    "- 327it [00:30, 10.67it/s]\n",
    "- Epoch 9 loss: 0.06422631882148189"
   ]
  },
  {
   "cell_type": "code",
   "execution_count": 13,
   "metadata": {},
   "outputs": [
    {
     "name": "stdout",
     "output_type": "stream",
     "text": [
      "Accuracy: 83.44%\n"
     ]
    }
   ],
   "source": [
    "model.eval()\n",
    "\n",
    "correct = 0\n",
    "total = 0\n",
    "\n",
    "all_preds = []\n",
    "all_labels = []\n",
    "\n",
    "with torch.no_grad():\n",
    "  for features_batch, labels_batch in test_dataloader:\n",
    "    features_batch = features_batch.to(device)\n",
    "    labels_batch = labels_batch.to(device)\n",
    "\n",
    "    outputs = model(features_batch)\n",
    "    _, predicted = torch.max(outputs, 1)\n",
    "    total += labels_batch.size(0)\n",
    "    correct += (predicted == labels_batch).sum().item()\n",
    "\n",
    "    all_preds.extend(predicted.cpu().numpy())\n",
    "    all_labels.extend(labels_batch.cpu().numpy())\n",
    "\n",
    "accuracy = correct / total\n",
    "print(f\"Accuracy: {accuracy * 100:.2f}%\")\n"
   ]
  },
  {
   "cell_type": "markdown",
   "metadata": {},
   "source": [
    "current acc: 83.44%"
   ]
  },
  {
   "cell_type": "markdown",
   "metadata": {},
   "source": [
    "## Adding online augmentation to training loop"
   ]
  },
  {
   "cell_type": "code",
   "execution_count": 5,
   "metadata": {},
   "outputs": [],
   "source": [
    "X_train, X_test, y_train, y_test = train_test_split(X, y, train_size=0.7, shuffle=True)\n",
    "\n",
    "train_dataset = AugmentedTonesDataset(X_train, y_train, augment_prob=0.5)\n",
    "test_dataset = AugmentedTonesDataset(X_test, y_test, augment_prob=0.5)\n",
    "\n",
    "train_dataloader = DataLoader(\n",
    "  train_dataset, \n",
    "  batch_size=32, \n",
    "  shuffle=True,\n",
    "  num_workers=4,\n",
    "  persistent_workers=True,\n",
    "  prefetch_factor=2\n",
    "  )\n",
    "test_dataloader = DataLoader(\n",
    "  test_dataset,\n",
    "  batch_size=32, \n",
    "  shuffle=True,\n",
    "  num_workers=4,\n",
    "  persistent_workers=True,\n",
    "  prefetch_factor=2\n",
    "  )"
   ]
  },
  {
   "cell_type": "code",
   "execution_count": 6,
   "metadata": {},
   "outputs": [],
   "source": [
    "model = ResNet18(num_classes=num_classes)\n",
    "criterion = nn.CrossEntropyLoss()\n",
    "optimizer = optim.SGD(model.parameters(), lr=0.001, momentum=0.9)\n",
    "\n",
    "device = GetDevice()\n",
    "model = model.to(device)"
   ]
  },
  {
   "cell_type": "code",
   "execution_count": 7,
   "metadata": {},
   "outputs": [
    {
     "name": "stderr",
     "output_type": "stream",
     "text": [
      "327it [00:30, 10.86it/s]\n"
     ]
    },
    {
     "name": "stdout",
     "output_type": "stream",
     "text": [
      "Epoch 0 loss: 0.9135541436504516\n"
     ]
    },
    {
     "name": "stderr",
     "output_type": "stream",
     "text": [
      "327it [00:30, 10.83it/s]\n"
     ]
    },
    {
     "name": "stdout",
     "output_type": "stream",
     "text": [
      "Epoch 1 loss: 0.6671809866705437\n"
     ]
    },
    {
     "name": "stderr",
     "output_type": "stream",
     "text": [
      "327it [00:30, 10.64it/s]\n"
     ]
    },
    {
     "name": "stdout",
     "output_type": "stream",
     "text": [
      "Epoch 2 loss: 0.5934768070321564\n"
     ]
    },
    {
     "name": "stderr",
     "output_type": "stream",
     "text": [
      "327it [00:31, 10.49it/s]\n"
     ]
    },
    {
     "name": "stdout",
     "output_type": "stream",
     "text": [
      "Epoch 3 loss: 0.5256371311729472\n"
     ]
    },
    {
     "name": "stderr",
     "output_type": "stream",
     "text": [
      "327it [00:30, 10.63it/s]\n"
     ]
    },
    {
     "name": "stdout",
     "output_type": "stream",
     "text": [
      "Epoch 4 loss: 0.48990196016950344\n"
     ]
    },
    {
     "name": "stderr",
     "output_type": "stream",
     "text": [
      "327it [00:30, 10.66it/s]\n"
     ]
    },
    {
     "name": "stdout",
     "output_type": "stream",
     "text": [
      "Epoch 5 loss: 0.45108620899897467\n"
     ]
    },
    {
     "name": "stderr",
     "output_type": "stream",
     "text": [
      "327it [00:30, 10.70it/s]\n"
     ]
    },
    {
     "name": "stdout",
     "output_type": "stream",
     "text": [
      "Epoch 6 loss: 0.41809811504608996\n"
     ]
    },
    {
     "name": "stderr",
     "output_type": "stream",
     "text": [
      "327it [00:30, 10.67it/s]\n"
     ]
    },
    {
     "name": "stdout",
     "output_type": "stream",
     "text": [
      "Epoch 7 loss: 0.38428021119822053\n"
     ]
    },
    {
     "name": "stderr",
     "output_type": "stream",
     "text": [
      "327it [00:30, 10.70it/s]\n"
     ]
    },
    {
     "name": "stdout",
     "output_type": "stream",
     "text": [
      "Epoch 8 loss: 0.3626626086982383\n"
     ]
    },
    {
     "name": "stderr",
     "output_type": "stream",
     "text": [
      "327it [00:30, 10.56it/s]"
     ]
    },
    {
     "name": "stdout",
     "output_type": "stream",
     "text": [
      "Epoch 9 loss: 0.3268409728639352\n"
     ]
    },
    {
     "name": "stderr",
     "output_type": "stream",
     "text": [
      "\n"
     ]
    }
   ],
   "source": [
    "for epoch in range(10):\n",
    "  running_loss = 0.0\n",
    "  for i, data in tqdm(enumerate(train_dataloader)):\n",
    "    inputs, labels = data\n",
    "    inputs = inputs.to(device)\n",
    "    labels = labels.to(device)\n",
    "    \n",
    "    optimizer.zero_grad()\n",
    "    outputs = model(inputs)\n",
    "    loss = criterion(outputs, labels)\n",
    "    loss.backward()\n",
    "    optimizer.step()\n",
    "    running_loss += loss.item()\n",
    "  print(f'Epoch {epoch} loss: {running_loss / len(train_dataloader)}')\n",
    "    "
   ]
  },
  {
   "cell_type": "code",
   "execution_count": 8,
   "metadata": {},
   "outputs": [
    {
     "name": "stdout",
     "output_type": "stream",
     "text": [
      "Accuracy: 78.37%\n"
     ]
    }
   ],
   "source": [
    "model.eval()\n",
    "\n",
    "correct = 0\n",
    "total = 0\n",
    "\n",
    "all_preds = []\n",
    "all_labels = []\n",
    "\n",
    "with torch.no_grad():\n",
    "  for features_batch, labels_batch in test_dataloader:\n",
    "    features_batch = features_batch.to(device)\n",
    "    labels_batch = labels_batch.to(device)\n",
    "\n",
    "    outputs = model(features_batch)\n",
    "    _, predicted = torch.max(outputs, 1)\n",
    "    total += labels_batch.size(0)\n",
    "    correct += (predicted == labels_batch).sum().item()\n",
    "\n",
    "    all_preds.extend(predicted.cpu().numpy())\n",
    "    all_labels.extend(labels_batch.cpu().numpy())\n",
    "\n",
    "accuracy = correct / total\n",
    "print(f\"Accuracy: {accuracy * 100:.2f}%\")\n"
   ]
  },
  {
   "cell_type": "code",
   "execution_count": 9,
   "metadata": {},
   "outputs": [
    {
     "name": "stdout",
     "output_type": "stream",
     "text": [
      "              precision    recall  f1-score   support\n",
      "\n",
      "           0       0.69      0.84      0.76      1123\n",
      "           1       0.95      0.48      0.64       373\n",
      "           2       0.79      0.85      0.82      1492\n",
      "           3       0.85      0.75      0.80      1492\n",
      "\n",
      "    accuracy                           0.78      4480\n",
      "   macro avg       0.82      0.73      0.75      4480\n",
      "weighted avg       0.80      0.78      0.78      4480\n",
      "\n",
      "Confusion Matrix:\n",
      " [[ 940    4  116   63]\n",
      " [  82  180   55   56]\n",
      " [ 141    1 1269   81]\n",
      " [ 195    4  171 1122]]\n"
     ]
    }
   ],
   "source": [
    "# Print a detailed classification report\n",
    "print(classification_report(all_labels, all_preds))\n",
    "\n",
    "# Print the confusion matrix\n",
    "conf_matrix = confusion_matrix(all_labels, all_preds)\n",
    "print(\"Confusion Matrix:\\n\", conf_matrix)\n"
   ]
  },
  {
   "cell_type": "code",
   "execution_count": 10,
   "metadata": {},
   "outputs": [
    {
     "data": {
      "image/png": "[encoded data removed]",
      "text/plain": [
       "<Figure size 800x600 with 2 Axes>"
      ]
     },
     "metadata": {},
     "output_type": "display_data"
    }
   ],
   "source": [
    "tones = [num + 1 for num in range(num_classes)]\n",
    "plt.figure(figsize=(8, 6))\n",
    "sns.heatmap(conf_matrix, annot=True, fmt='d', cmap='Blues', xticklabels=tones, yticklabels=tones)\n",
    "plt.xlabel('Predicted')\n",
    "plt.ylabel('Actual')\n",
    "plt.yticks(rotation=0)\n",
    "plt.title('Confusion Matrix')\n",
    "plt.show()\n"
   ]
  },
  {
   "cell_type": "markdown",
   "metadata": {},
   "source": [
    "## ON THE HELLA AUGMENTED DATA"
   ]
  },
  {
   "cell_type": "code",
   "execution_count": null,
   "metadata": {},
   "outputs": [],
   "source": [
    "X_train = np.load(os.path.join(DATA_DIR, 'train_features.npy'))\n",
    "X_test = np.load(os.path.join(DATA_DIR, 'test_features.npy')) \n",
    "y_train = np.load(os.path.join(DATA_DIR, 'train_labels.npy'))\n",
    "y_test = np.load(os.path.join(DATA_DIR, 'test_labels.npy'))"
   ]
  },
  {
   "cell_type": "code",
   "execution_count": null,
   "metadata": {},
   "outputs": [],
   "source": [
    "train_dataset = AugmentedTonesDataset(X_train, y_train, augment_prob=0.5)\n",
    "test_dataset = AugmentedTonesDataset(X_test, y_test, augment_prob=0.5)\n",
    "\n",
    "train_dataloader = DataLoader(\n",
    "  train_dataset, \n",
    "  batch_size=32, \n",
    "  shuffle=True,\n",
    "  num_workers=4,\n",
    "  persistent_workers=True,\n",
    "  prefetch_factor=2\n",
    "  )\n",
    "test_dataloader = DataLoader(\n",
    "  test_dataset,\n",
    "  batch_size=32, \n",
    "  shuffle=True,\n",
    "  num_workers=4,\n",
    "  persistent_workers=True,\n",
    "  prefetch_factor=2\n",
    "  )"
   ]
  },
  {
   "cell_type": "code",
   "execution_count": null,
   "metadata": {},
   "outputs": [],
   "source": [
    "model = ResNet18(num_classes=num_classes)\n",
    "criterion = nn.CrossEntropyLoss()\n",
    "optimizer = optim.SGD(model.parameters(), lr=0.001, momentum=0.9)\n",
    "\n",
    "device = GetDevice()\n",
    "model = model.to(device)"
   ]
  },
  {
   "cell_type": "code",
   "execution_count": null,
   "metadata": {},
   "outputs": [],
   "source": [
    "for epoch in range(10):\n",
    "  running_loss = 0.0\n",
    "  for i, data in tqdm(enumerate(train_dataloader)):\n",
    "    inputs, labels = data\n",
    "    inputs = inputs.to(device)\n",
    "    labels = labels.to(device)\n",
    "    \n",
    "    optimizer.zero_grad()\n",
    "    outputs = model(inputs)\n",
    "    loss = criterion(outputs, labels)\n",
    "    loss.backward()\n",
    "    optimizer.step()\n",
    "    running_loss += loss.item()\n",
    "  print(f'Epoch {epoch} loss: {running_loss / len(train_dataloader)}')\n",
    "    "
   ]
  },
  {
   "cell_type": "code",
   "execution_count": null,
   "metadata": {},
   "outputs": [],
   "source": []
  },
  {
   "cell_type": "code",
   "execution_count": null,
   "metadata": {},
   "outputs": [],
   "source": []
  },
  {
   "cell_type": "code",
   "execution_count": null,
   "metadata": {},
   "outputs": [],
   "source": []
  },
  {
   "cell_type": "code",
   "execution_count": null,
   "metadata": {},
   "outputs": [],
   "source": []
  }
 ],
 "metadata": {
  "kernelspec": {
   "display_name": "sound",
   "language": "python",
   "name": "python3"
  },
  "language_info": {
   "codemirror_mode": {
    "name": "ipython",
    "version": 3
   },
   "file_extension": ".py",
   "mimetype": "text/x-python",
   "name": "python",
   "nbconvert_exporter": "python",
   "pygments_lexer": "ipython3",
   "version": "3.11.0"
  }
 },
 "nbformat": 4,
 "nbformat_minor": 2
}
